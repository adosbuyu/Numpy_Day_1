{
 "cells": [
  {
   "cell_type": "markdown",
   "metadata": {
    "id": "KdERlTpFuL5V"
   },
   "source": [
    "# Exercises"
   ]
  },
  {
   "cell_type": "markdown",
   "metadata": {
    "id": "to-gsrQyuL5Z"
   },
   "source": [
    "### #1 - Calculate the BMI (body mass index) on the two lists below using NDArrays..."
   ]
  },
  {
   "cell_type": "code",
   "execution_count": 5,
   "metadata": {
    "id": "iZlf9DzeuL5a"
   },
   "outputs": [
    {
     "name": "stdout",
     "output_type": "stream",
     "text": [
      "[16.24238605 17.21632653 18.12933942 18.98533951 19.78795271 20.54054054\n",
      " 21.24622222]\n"
     ]
    }
   ],
   "source": [
    "import numpy as np\n",
    "\n",
    "height = [69, 70, 71, 72, 73, 74, 75]\n",
    "weight = [110, 120, 130, 140, 150, 160, 170]\n",
    "\n",
    "height_arr = np.array(height)\n",
    "weight_arr = np.array(weight)\n",
    "\n",
    "# bmi formula = weight / (height**2) * 703\n",
    "bmi = weight_arr / (height_arr ** 2) * 703\n",
    "print(bmi)\n",
    "\n"
   ]
  },
  {
   "cell_type": "markdown",
   "metadata": {
    "id": "RSsT8w8ouL5b"
   },
   "source": [
    "### #2 - Create a function that will take in two parameters and will create a random matrix based off of those parameters. Extra: Have additional parameters taken in that allow the user to choose the shape and data type of the matrix."
   ]
  },
  {
   "cell_type": "code",
   "execution_count": 6,
   "metadata": {
    "id": "ygFvj0aeuL5b"
   },
   "outputs": [
    {
     "name": "stdout",
     "output_type": "stream",
     "text": [
      "Enter number of rows: 2\n",
      "Enter number of columns: 3\n",
      "Enter shape of the matrix ('square' or 'rectangular'): square\n",
      "For a square matrix, rows and cols must be equal.\n",
      "Enter number of rows: 2\n",
      "Enter number of columns: 2\n",
      "Enter data type ('int', 'float', 'bool', 'str'): float\n",
      "Random Matrix:\n",
      "[[0.40548114 0.34811927]\n",
      " [0.83118518 0.76202305]]\n"
     ]
    }
   ],
   "source": [
    "import numpy as np\n",
    "\n",
    "def get_shape():\n",
    "    while True:\n",
    "        try:\n",
    "            shape = input(\"Enter shape of the matrix ('square' or 'rectangular'): \").lower()\n",
    "            if shape not in ['square', 'rectangular']:\n",
    "                raise ValueError(\"Invalid shape. Choose 'square' or 'rectangular'.\")\n",
    "            return shape\n",
    "        except ValueError as ve:\n",
    "            print(\"Error:\", ve)\n",
    "\n",
    "def get_dtype():\n",
    "    while True:\n",
    "        try:\n",
    "            dtype = input(\"Enter data type ('int', 'float', 'bool', 'str'): \").lower()\n",
    "            if dtype not in ['int', 'float', 'bool', 'str']:\n",
    "                raise ValueError(\"Invalid data type. Choose 'int', 'float', 'bool', or 'str'.\")\n",
    "            return dtype\n",
    "        except ValueError as ve:\n",
    "            print(\"Error:\", ve)\n",
    "\n",
    "def random_matrix(rows, cols):\n",
    "    \"\"\"\n",
    "    Generate a random matrix.\n",
    "\n",
    "    Parameters:\n",
    "        rows (int): Number of rows in the matrix.\n",
    "        cols (int): Number of columns in the matrix.\n",
    "\n",
    "    Returns:\n",
    "        numpy.ndarray: Random matrix.\n",
    "    \"\"\"\n",
    "    shape = get_shape()\n",
    "    if shape == 'square' and rows != cols:\n",
    "        print(\"For a square matrix, rows and cols must be equal.\")\n",
    "        #return random_matrix(rows, rows)  # Adjusting cols to be equal to rows for square matrix\n",
    "        #\n",
    "        # Asking for dimensions again for square matrix\n",
    "        #\n",
    "        rows = int(input(\"Enter number of rows: \"))\n",
    "        cols = int(input(\"Enter number of columns: \"))\n",
    "    elif shape == 'rectangular' and rows == cols:\n",
    "        print(\"For a rectangular matrix, rows and cols must be different.\")\n",
    "        #return random_matrix(rows, cols)  # Asking for dimensions again for rectangular matrix\n",
    "        # \n",
    "        #\n",
    "        rows = int(input(\"Enter number of rows: \"))\n",
    "        cols = int(input(\"Enter number of columns: \"))\n",
    "    dtype = get_dtype()\n",
    "    if dtype == 'int':\n",
    "        dtype = int\n",
    "        min_val = int(input(\"Enter minimum value for integers: \"))\n",
    "        max_val = int(input(\"Enter maximum value for integers: \"))\n",
    "        return np.random.randint(min_val, max_val + 1, size=(rows, cols))\n",
    "    elif dtype == 'float':\n",
    "        dtype = float\n",
    "        return np.random.rand(rows, cols)\n",
    "    elif dtype == 'bool':\n",
    "        dtype = bool\n",
    "        return np.random.choice([True, False], size=(rows, cols))\n",
    "    elif dtype == 'str':\n",
    "        dtype = str\n",
    "        max_length = int(input(\"Enter maximum length for strings: \"))\n",
    "        letters = 'abcdefghijklmnopqrstuvwxyzABCDEFGHIJKLMNOPQRSTUVWXYZ'\n",
    "        return np.array([''.join(np.random.choice(list(letters), size=max_length)) for _ in range(rows * cols)]).reshape(rows, cols)\n",
    "\n",
    "# Example usage:\n",
    "rows = int(input(\"Enter number of rows: \"))\n",
    "cols = int(input(\"Enter number of columns: \"))\n",
    "random_mat = random_matrix(rows, cols)  # Generates a random matrix based on user input\n",
    "print(\"Random Matrix:\")\n",
    "print(random_mat)\n"
   ]
  },
  {
   "cell_type": "markdown",
   "metadata": {
    "id": "e5mP1UX9uL5c"
   },
   "source": [
    "### #3 - Extra: Open and load the data in the two text files that have the Boston Red Sox hitting data for the past seasons. Compare the difference in the two years by putting the data into an NDArray and running a differencial operation on it. The column to look for will be SLG.\n",
    "\n",
    "Your output should display which year (either 2017 or 2018) was a better year based on SLG"
   ]
  },
  {
   "cell_type": "code",
   "execution_count": 7,
   "metadata": {
    "id": "iAExC-SjuL5c"
   },
   "outputs": [
    {
     "name": "stdout",
     "output_type": "stream",
     "text": [
      "SLG data for 2017:\n",
      "[0.404 0.443 0.392 0.403 0.482 0.424 0.402 0.459 0.429 0.354 0.387 0.333\n",
      " 0.539 0.243 0.262 0.354 0.342 0.339 0.328 0.306 0.222 0.2   1.   ]\n",
      "SLG mean for 2017 0.39334782608695656\n",
      "\n",
      "SLG data for 2018:\n",
      "[0.279 0.433 0.388 0.522 0.433 0.465 0.403 0.64  0.629 0.411 0.283 0.328\n",
      " 0.395 0.507 0.311 0.415 0.389 0.261 0.091 0.167]\n",
      "SLG mean for 2017 0.38750000000000007\n",
      "\n",
      "2017 was a better year based on SLG.\n"
     ]
    }
   ],
   "source": [
    "import csv\n",
    "import numpy as np\n",
    "\n",
    "# Function to load data from text file\n",
    "def load_data(file_name):\n",
    "    data = np.genfromtxt(file_name, delimiter=',', skip_header=1, usecols=(0, 19), dtype=None, encoding=None)\n",
    "    return data\n",
    "\n",
    "# Load data for 2017 and 2018\n",
    "data_2017 = load_data(\"redsox_2017_hitting.txt\")\n",
    "data_2018 = load_data(\"redsox_2018_hitting.txt\")\n",
    "\n",
    "# Extract SLG data\n",
    "slg_2017 = np.array([float(row[1]) for row in data_2017])\n",
    "slg_2018 = np.array([float(row[1]) for row in data_2018])\n",
    "\n",
    "# Print SLG data for both years\n",
    "print(\"SLG data for 2017:\")\n",
    "print(slg_2017)\n",
    "print(\"SLG mean for 2017\", np.mean(slg_2017))\n",
    "print(\"\\nSLG data for 2018:\")\n",
    "print(slg_2018)\n",
    "print(\"SLG mean for 2017\", np.mean(slg_2018))\n",
    "\n",
    "# Calculate SLG difference\n",
    "slg_diff = np.mean(slg_2018) - np.mean(slg_2017)\n",
    "\n",
    "# Determine which year had a better SLG\n",
    "if slg_diff > 0:\n",
    "    print(\"\\n2018 was a better year based on SLG.\")\n",
    "elif slg_diff < 0:\n",
    "    print(\"\\n2017 was a better year based on SLG.\")\n",
    "else:\n",
    "    print(\"\\nBoth years had the same SLG.\")\n",
    "\n",
    "\n",
    "\n",
    "\n"
   ]
  },
  {
   "cell_type": "code",
   "execution_count": 6,
   "metadata": {
    "id": "P8Rwr8lmuL5e"
   },
   "outputs": [],
   "source": [
    "FIELDS = ['Rk', 'Pos', 'Name', 'Age', 'G', 'PA', 'AB', 'R', 'H', '2B', '3B', 'HR', 'RBI', 'SB', 'CS', \n",
    "          'BB', 'SO', 'BA', 'OBP', 'SLG', 'OPS', 'OPS+', 'TB', 'GDP', 'HBP', 'SH', 'SF', 'IBB']\n",
    "\n",
    "DATATYPES = [('rk', 'i'), ('pos', '|S25'), ('name', '|S25'), ('age', 'i'), ('g', 'i'), ('pa', 'i'), ('ab', 'i'),\n",
    "                ('r', 'i'), ('h', 'i'), ('2b', 'i'), ('3b', 'i'), ('hr', 'i'), ('rbi', 'i'), ('sb', 'i'), ('cs', 'i'),\n",
    "                ('bb', 'i'), ('so', 'i'), ('ba', 'f'), ('obp', 'f'), ('slg', 'f'), ('ops', 'f'), ('opsp', 'i'),\n",
    "                ('tb', 'i'), ('gdp', 'i'), ('hbp', 'i'), ('sh', 'i'), ('sf', 'i'), ('ibb', 'i')]\n",
    "\n",
    "#Use this function to actually open the data inside of a NDArray\n",
    "\n",
    "# Function to print data from text file\n",
    "# def print_data(file_name):\n",
    "#     with open(file_name, 'r') as file:\n",
    "#         data = file.read()\n",
    "#         print(data)\n",
    "\n",
    "# # Print data from both files\n",
    "# print(\"Data from redsox_2017_hitting.txt:\")\n",
    "# print_data(\"redsox_2017_hitting.txt\")\n",
    "# print(\"\\nData from redsox_2018_hitting.txt:\")\n",
    "# print_data(\"redsox_2018_hitting.txt\")\n",
    "\n"
   ]
  },
  {
   "cell_type": "code",
   "execution_count": null,
   "metadata": {},
   "outputs": [],
   "source": []
  },
  {
   "cell_type": "code",
   "execution_count": null,
   "metadata": {},
   "outputs": [],
   "source": []
  }
 ],
 "metadata": {
  "colab": {
   "name": "Copy of Data_Science_Day_1_Exercises-Day1- Homework.ipynb",
   "provenance": []
  },
  "kernelspec": {
   "display_name": "Python 3 (ipykernel)",
   "language": "python",
   "name": "python3"
  },
  "language_info": {
   "codemirror_mode": {
    "name": "ipython",
    "version": 3
   },
   "file_extension": ".py",
   "mimetype": "text/x-python",
   "name": "python",
   "nbconvert_exporter": "python",
   "pygments_lexer": "ipython3",
   "version": "3.11.5"
  }
 },
 "nbformat": 4,
 "nbformat_minor": 1
}
